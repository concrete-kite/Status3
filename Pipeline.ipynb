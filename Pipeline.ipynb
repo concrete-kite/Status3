{
 "metadata": {
  "language_info": {
   "codemirror_mode": {
    "name": "ipython",
    "version": 3
   },
   "file_extension": ".py",
   "mimetype": "text/x-python",
   "name": "python",
   "nbconvert_exporter": "python",
   "pygments_lexer": "ipython3",
   "version": "3.9.2"
  },
  "orig_nbformat": 4,
  "kernelspec": {
   "name": "python3",
   "display_name": "Python 3.9.2 64-bit"
  },
  "interpreter": {
   "hash": "5b8c26e76738f390c67c6ef12a6bca6a4a3bfcad7960bb2ac304ff75754a1fcc"
  }
 },
 "nbformat": 4,
 "nbformat_minor": 2,
 "cells": [
  {
   "cell_type": "code",
   "execution_count": 1,
   "metadata": {},
   "outputs": [],
   "source": [
    "import re\n",
    "import numpy as np\n",
    "import pandas as pd\n",
    "import lightgbm as lgb\n",
    "import matplotlib.pyplot as plt\n",
    "from imblearn.over_sampling import SMOTE\n",
    "from sklearn.model_selection import train_test_split\n",
    "from sklearn.metrics import  r2_score, accuracy_score, mean_squared_error"
   ]
  },
  {
   "source": [
    "<h1>Pipeline Projeto N.E.M<h1>\n",
    "<h2>Implementação de Gradient Boosting Trees<h2>"
   ],
   "cell_type": "markdown",
   "metadata": {}
  },
  {
   "source": [
    "<h3>Lendo a Base <h3>"
   ],
   "cell_type": "markdown",
   "metadata": {}
  },
  {
   "cell_type": "code",
   "execution_count": 2,
   "metadata": {},
   "outputs": [
    {
     "output_type": "stream",
     "name": "stdout",
     "text": [
      "(2832, 15)\n"
     ]
    },
    {
     "output_type": "execute_result",
     "data": {
      "text/plain": [
       "   Age     Sex                             Race     Marital status?  \\\n",
       "0   66    Male                          Refused            Divorced   \n",
       "1   46    Male  Native American/American Indian             Married   \n",
       "2   32    Male                       Mixed race  Never been married   \n",
       "3   27    Male                       Mixed race             Married   \n",
       "4   16  Female                       Mixed race  Never been married   \n",
       "\n",
       "                Education         Employement                   Incomes  \\\n",
       "0        College graduate             Retired  $20,000 to under $30,000   \n",
       "1    High school graduate  Employed full-time         Less than $10,000   \n",
       "2    High school graduate  Employed full-time         Less than $10,000   \n",
       "3    High school graduate  Employed full-time  $40,000 to under $50,000   \n",
       "4  High school incomplete  Employed part-time  $10,000 to under $20,000   \n",
       "\n",
       "   How many books did you read during last 12months?  \\\n",
       "0                                                 97   \n",
       "1                                                 97   \n",
       "2                                                 97   \n",
       "3                                                 97   \n",
       "4                                                 97   \n",
       "\n",
       "  Read any printed books during last 12months?  \\\n",
       "0                                          Yes   \n",
       "1                                          Yes   \n",
       "2                                           No   \n",
       "3                                          Yes   \n",
       "4                                          Yes   \n",
       "\n",
       "  Read any audiobooks during last 12months?  \\\n",
       "0                                        No   \n",
       "1                                       Yes   \n",
       "2                                       Yes   \n",
       "3                                        No   \n",
       "4                                       Yes   \n",
       "\n",
       "  Read any e-books during last 12months?  \\\n",
       "0                                    Yes   \n",
       "1                                    Yes   \n",
       "2                                    Yes   \n",
       "3                                    Yes   \n",
       "4                                     No   \n",
       "\n",
       "                           Last book you read, you…  \\\n",
       "0                                Purchased the book   \n",
       "1                                Purchased the book   \n",
       "2  Borrowed the book from a friend or family member   \n",
       "3                  Borrowed the book from a library   \n",
       "4                                Purchased the book   \n",
       "\n",
       "  Do you happen to read any daily news or newspapers?  \\\n",
       "0                                                 No    \n",
       "1                                                Yes    \n",
       "2                                                Yes    \n",
       "3                                                Yes    \n",
       "4                                                Yes    \n",
       "\n",
       "  Do you happen to read any magazines or journals?  Reading Speed  \n",
       "0                                              Yes            317  \n",
       "1                                              Yes            253  \n",
       "2                                              Yes            262  \n",
       "3                                               No            255  \n",
       "4                                               No            208  "
      ],
      "text/html": "<div>\n<style scoped>\n    .dataframe tbody tr th:only-of-type {\n        vertical-align: middle;\n    }\n\n    .dataframe tbody tr th {\n        vertical-align: top;\n    }\n\n    .dataframe thead th {\n        text-align: right;\n    }\n</style>\n<table border=\"1\" class=\"dataframe\">\n  <thead>\n    <tr style=\"text-align: right;\">\n      <th></th>\n      <th>Age</th>\n      <th>Sex</th>\n      <th>Race</th>\n      <th>Marital status?</th>\n      <th>Education</th>\n      <th>Employement</th>\n      <th>Incomes</th>\n      <th>How many books did you read during last 12months?</th>\n      <th>Read any printed books during last 12months?</th>\n      <th>Read any audiobooks during last 12months?</th>\n      <th>Read any e-books during last 12months?</th>\n      <th>Last book you read, you…</th>\n      <th>Do you happen to read any daily news or newspapers?</th>\n      <th>Do you happen to read any magazines or journals?</th>\n      <th>Reading Speed</th>\n    </tr>\n  </thead>\n  <tbody>\n    <tr>\n      <th>0</th>\n      <td>66</td>\n      <td>Male</td>\n      <td>Refused</td>\n      <td>Divorced</td>\n      <td>College graduate</td>\n      <td>Retired</td>\n      <td>$20,000 to under $30,000</td>\n      <td>97</td>\n      <td>Yes</td>\n      <td>No</td>\n      <td>Yes</td>\n      <td>Purchased the book</td>\n      <td>No</td>\n      <td>Yes</td>\n      <td>317</td>\n    </tr>\n    <tr>\n      <th>1</th>\n      <td>46</td>\n      <td>Male</td>\n      <td>Native American/American Indian</td>\n      <td>Married</td>\n      <td>High school graduate</td>\n      <td>Employed full-time</td>\n      <td>Less than $10,000</td>\n      <td>97</td>\n      <td>Yes</td>\n      <td>Yes</td>\n      <td>Yes</td>\n      <td>Purchased the book</td>\n      <td>Yes</td>\n      <td>Yes</td>\n      <td>253</td>\n    </tr>\n    <tr>\n      <th>2</th>\n      <td>32</td>\n      <td>Male</td>\n      <td>Mixed race</td>\n      <td>Never been married</td>\n      <td>High school graduate</td>\n      <td>Employed full-time</td>\n      <td>Less than $10,000</td>\n      <td>97</td>\n      <td>No</td>\n      <td>Yes</td>\n      <td>Yes</td>\n      <td>Borrowed the book from a friend or family member</td>\n      <td>Yes</td>\n      <td>Yes</td>\n      <td>262</td>\n    </tr>\n    <tr>\n      <th>3</th>\n      <td>27</td>\n      <td>Male</td>\n      <td>Mixed race</td>\n      <td>Married</td>\n      <td>High school graduate</td>\n      <td>Employed full-time</td>\n      <td>$40,000 to under $50,000</td>\n      <td>97</td>\n      <td>Yes</td>\n      <td>No</td>\n      <td>Yes</td>\n      <td>Borrowed the book from a library</td>\n      <td>Yes</td>\n      <td>No</td>\n      <td>255</td>\n    </tr>\n    <tr>\n      <th>4</th>\n      <td>16</td>\n      <td>Female</td>\n      <td>Mixed race</td>\n      <td>Never been married</td>\n      <td>High school incomplete</td>\n      <td>Employed part-time</td>\n      <td>$10,000 to under $20,000</td>\n      <td>97</td>\n      <td>Yes</td>\n      <td>Yes</td>\n      <td>No</td>\n      <td>Purchased the book</td>\n      <td>Yes</td>\n      <td>No</td>\n      <td>208</td>\n    </tr>\n  </tbody>\n</table>\n</div>"
     },
     "metadata": {},
     "execution_count": 2
    }
   ],
   "source": [
    "raw_df = pd.read_csv(\"readingWithSpeed.csv\")\n",
    "print(raw_df.shape)\n",
    "raw_df.head()"
   ]
  },
  {
   "cell_type": "code",
   "execution_count": 3,
   "metadata": {},
   "outputs": [
    {
     "output_type": "execute_result",
     "data": {
      "text/plain": [
       "   Age     Sex     Marital status?               Education  \\\n",
       "0   66    Male            Divorced        College graduate   \n",
       "1   46    Male             Married    High school graduate   \n",
       "2   32    Male  Never been married    High school graduate   \n",
       "3   27    Male             Married    High school graduate   \n",
       "4   16  Female  Never been married  High school incomplete   \n",
       "\n",
       "          Employement  How many books did you read during last 12months?  \\\n",
       "0             Retired                                                 97   \n",
       "1  Employed full-time                                                 97   \n",
       "2  Employed full-time                                                 97   \n",
       "3  Employed full-time                                                 97   \n",
       "4  Employed part-time                                                 97   \n",
       "\n",
       "  Read any printed books during last 12months?  \\\n",
       "0                                          Yes   \n",
       "1                                          Yes   \n",
       "2                                           No   \n",
       "3                                          Yes   \n",
       "4                                          Yes   \n",
       "\n",
       "  Read any audiobooks during last 12months?  \\\n",
       "0                                        No   \n",
       "1                                       Yes   \n",
       "2                                       Yes   \n",
       "3                                        No   \n",
       "4                                       Yes   \n",
       "\n",
       "  Read any e-books during last 12months?  \\\n",
       "0                                    Yes   \n",
       "1                                    Yes   \n",
       "2                                    Yes   \n",
       "3                                    Yes   \n",
       "4                                     No   \n",
       "\n",
       "  Do you happen to read any daily news or newspapers?  \\\n",
       "0                                                 No    \n",
       "1                                                Yes    \n",
       "2                                                Yes    \n",
       "3                                                Yes    \n",
       "4                                                Yes    \n",
       "\n",
       "  Do you happen to read any magazines or journals?  Reading Speed  \n",
       "0                                              Yes            317  \n",
       "1                                              Yes            253  \n",
       "2                                              Yes            262  \n",
       "3                                               No            255  \n",
       "4                                               No            208  "
      ],
      "text/html": "<div>\n<style scoped>\n    .dataframe tbody tr th:only-of-type {\n        vertical-align: middle;\n    }\n\n    .dataframe tbody tr th {\n        vertical-align: top;\n    }\n\n    .dataframe thead th {\n        text-align: right;\n    }\n</style>\n<table border=\"1\" class=\"dataframe\">\n  <thead>\n    <tr style=\"text-align: right;\">\n      <th></th>\n      <th>Age</th>\n      <th>Sex</th>\n      <th>Marital status?</th>\n      <th>Education</th>\n      <th>Employement</th>\n      <th>How many books did you read during last 12months?</th>\n      <th>Read any printed books during last 12months?</th>\n      <th>Read any audiobooks during last 12months?</th>\n      <th>Read any e-books during last 12months?</th>\n      <th>Do you happen to read any daily news or newspapers?</th>\n      <th>Do you happen to read any magazines or journals?</th>\n      <th>Reading Speed</th>\n    </tr>\n  </thead>\n  <tbody>\n    <tr>\n      <th>0</th>\n      <td>66</td>\n      <td>Male</td>\n      <td>Divorced</td>\n      <td>College graduate</td>\n      <td>Retired</td>\n      <td>97</td>\n      <td>Yes</td>\n      <td>No</td>\n      <td>Yes</td>\n      <td>No</td>\n      <td>Yes</td>\n      <td>317</td>\n    </tr>\n    <tr>\n      <th>1</th>\n      <td>46</td>\n      <td>Male</td>\n      <td>Married</td>\n      <td>High school graduate</td>\n      <td>Employed full-time</td>\n      <td>97</td>\n      <td>Yes</td>\n      <td>Yes</td>\n      <td>Yes</td>\n      <td>Yes</td>\n      <td>Yes</td>\n      <td>253</td>\n    </tr>\n    <tr>\n      <th>2</th>\n      <td>32</td>\n      <td>Male</td>\n      <td>Never been married</td>\n      <td>High school graduate</td>\n      <td>Employed full-time</td>\n      <td>97</td>\n      <td>No</td>\n      <td>Yes</td>\n      <td>Yes</td>\n      <td>Yes</td>\n      <td>Yes</td>\n      <td>262</td>\n    </tr>\n    <tr>\n      <th>3</th>\n      <td>27</td>\n      <td>Male</td>\n      <td>Married</td>\n      <td>High school graduate</td>\n      <td>Employed full-time</td>\n      <td>97</td>\n      <td>Yes</td>\n      <td>No</td>\n      <td>Yes</td>\n      <td>Yes</td>\n      <td>No</td>\n      <td>255</td>\n    </tr>\n    <tr>\n      <th>4</th>\n      <td>16</td>\n      <td>Female</td>\n      <td>Never been married</td>\n      <td>High school incomplete</td>\n      <td>Employed part-time</td>\n      <td>97</td>\n      <td>Yes</td>\n      <td>Yes</td>\n      <td>No</td>\n      <td>Yes</td>\n      <td>No</td>\n      <td>208</td>\n    </tr>\n  </tbody>\n</table>\n</div>"
     },
     "metadata": {},
     "execution_count": 3
    }
   ],
   "source": [
    "raw_df = raw_df.dropna()\n",
    "raw_df = raw_df.drop(columns = ['Race', 'Last book you read, you…', 'Incomes'])\n",
    "raw_df.head()"
   ]
  },
  {
   "cell_type": "code",
   "execution_count": 4,
   "metadata": {},
   "outputs": [
    {
     "output_type": "stream",
     "name": "stdout",
     "text": [
      "Index(['Age', 'Sex', 'Maritalstatus', 'Education', 'Employement', 'n_books',\n       'printed_books', 'audiobooks', 'e_books', 'reads_newspaper',\n       'reads_magazines_journals', 'ReadingSpeed'],\n      dtype='object')\n"
     ]
    }
   ],
   "source": [
    "raw_df = raw_df.rename(columns={\n",
    "    \"How many books did you read during last 12months?\"   : \"n_books\",\n",
    "    \"Read any printed books during last 12months?\"        : \"printed_books\",\n",
    "    \"Read any audiobooks during last 12months?\"           : \"audiobooks\",\n",
    "    \"Read any e-books during last 12months?\"              : \"e_books\",\n",
    "    \"Do you happen to read any daily news or newspapers?\" : \"reads_newspaper\",\n",
    "    \"Do you happen to read any magazines or journals?\"    : \"reads_magazines_journals\"\n",
    "})\n",
    "\n",
    "raw_df = raw_df.rename(columns = lambda x:re.sub('[^A-Za-z0-9_]+', '', x))\n",
    "print(raw_df.columns)"
   ]
  },
  {
   "source": [
    "<h3>Limpeza e Hot Encodng<h3>"
   ],
   "cell_type": "markdown",
   "metadata": {}
  },
  {
   "cell_type": "code",
   "execution_count": 5,
   "metadata": {},
   "outputs": [],
   "source": [
    "for column in ['printed_books','audiobooks','e_books','reads_newspaper', 'reads_magazines_journals']:\n",
    "    raw_df[column] = raw_df[column].replace({'Yes' : 1, 'No': 0, 'Don’t know' : 0})\n",
    "\n",
    "columns_dont_know = raw_df.columns.drop(['Age', 'n_books', 'Sex'])\n",
    "\n",
    "raw_df['Maritalstatus'] = raw_df['Maritalstatus'].apply(lambda x: x if x != 'Don’t know' else 'Never been married')\n",
    "\n",
    "raw_df = pd.get_dummies(raw_df)\n",
    "raw_df = raw_df.rename(columns = lambda x:re.sub('[^A-Za-z0-9_]+', '', x))"
   ]
  },
  {
   "cell_type": "code",
   "execution_count": 6,
   "metadata": {},
   "outputs": [],
   "source": [
    "y = raw_df['ReadingSpeed']\n",
    "x = raw_df.drop(columns = ['ReadingSpeed'])\n",
    "\n",
    "X_train, X_test, y_train, y_test = train_test_split(x, y, test_size = 0.25, random_state = 584)"
   ]
  },
  {
   "source": [
    "<blockquote>Função genérica que printa os resulltados</blockquote>"
   ],
   "cell_type": "markdown",
   "metadata": {}
  },
  {
   "cell_type": "code",
   "execution_count": 7,
   "metadata": {},
   "outputs": [],
   "source": [
    "def print_results(predictions, y_testy):\n",
    "    errors = abs(predictions - y_testy)\n",
    "    sqr_error = abs(predictions - y_testy) ** 2\n",
    "    out_mape = round(np.mean(errors), 2)\n",
    "    out_mse = round(np.mean(sqr_error), 2)\n",
    "    print('Mean Absolute Error:', out_mape, 'degrees.')\n",
    "    print('Mean squared  Error:', out_mse, 'degrees.')\n",
    "    r2 = r2_score(predictions, y_testy)\n",
    "    print('R2 Score', r2, '%.')\n",
    "\n",
    "    return r2, out_mape, out_mse"
   ]
  },
  {
   "source": [
    "<h3>Gradient Boosting<h3>\n",
    "<h4>Pega os parametros do encontrados no Notebook de testes e faz o fit<h4>"
   ],
   "cell_type": "markdown",
   "metadata": {}
  },
  {
   "cell_type": "code",
   "execution_count": 8,
   "metadata": {},
   "outputs": [],
   "source": [
    "import json\n",
    "\n",
    "with open('params.json', 'r') as fp:\n",
    "    best_params_ = json.load(fp)"
   ]
  },
  {
   "source": [
    "<b>Treinando a base<b>"
   ],
   "cell_type": "markdown",
   "metadata": {}
  },
  {
   "cell_type": "code",
   "execution_count": 9,
   "metadata": {},
   "outputs": [
    {
     "output_type": "stream",
     "name": "stdout",
     "text": [
      "[LightGBM] [Warning] bagging_freq is set=10, subsample_freq=0 will be ignored. Current value: bagging_freq=10\n[1]\tvalid_0's l1: 28.811\tvalid_0's l2: 1275\nTraining until validation scores don't improve for 5 rounds\n[2]\tvalid_0's l1: 27.69\tvalid_0's l2: 1178.31\n[3]\tvalid_0's l1: 26.4093\tvalid_0's l2: 1088.33\n[4]\tvalid_0's l1: 24.412\tvalid_0's l2: 936.431\n[5]\tvalid_0's l1: 22.6292\tvalid_0's l2: 811.202\n[6]\tvalid_0's l1: 21.1496\tvalid_0's l2: 722.09\n[7]\tvalid_0's l1: 19.6357\tvalid_0's l2: 632.139\n[8]\tvalid_0's l1: 18.6538\tvalid_0's l2: 577.904\n[9]\tvalid_0's l1: 17.4281\tvalid_0's l2: 509.848\n[10]\tvalid_0's l1: 16.3024\tvalid_0's l2: 452.188\n[11]\tvalid_0's l1: 15.258\tvalid_0's l2: 396.838\n[12]\tvalid_0's l1: 14.2566\tvalid_0's l2: 346.414\n[13]\tvalid_0's l1: 13.3553\tvalid_0's l2: 306.196\n[14]\tvalid_0's l1: 12.6401\tvalid_0's l2: 274.7\n[15]\tvalid_0's l1: 11.9064\tvalid_0's l2: 245.707\n[16]\tvalid_0's l1: 11.2894\tvalid_0's l2: 222.178\n[17]\tvalid_0's l1: 10.6744\tvalid_0's l2: 198.825\n[18]\tvalid_0's l1: 10.1745\tvalid_0's l2: 182.599\n[19]\tvalid_0's l1: 9.82209\tvalid_0's l2: 168.891\n[20]\tvalid_0's l1: 9.41697\tvalid_0's l2: 156.796\n[21]\tvalid_0's l1: 9.0872\tvalid_0's l2: 145.483\n[22]\tvalid_0's l1: 8.84666\tvalid_0's l2: 139.036\n[23]\tvalid_0's l1: 8.49337\tvalid_0's l2: 128.717\n[24]\tvalid_0's l1: 8.18824\tvalid_0's l2: 121.721\n[25]\tvalid_0's l1: 7.95233\tvalid_0's l2: 116.787\n[26]\tvalid_0's l1: 7.79091\tvalid_0's l2: 112.143\n[27]\tvalid_0's l1: 7.53837\tvalid_0's l2: 106.051\n[28]\tvalid_0's l1: 7.34786\tvalid_0's l2: 101.842\n[29]\tvalid_0's l1: 7.13139\tvalid_0's l2: 96.5985\n[30]\tvalid_0's l1: 6.9779\tvalid_0's l2: 93.0558\n[31]\tvalid_0's l1: 6.87319\tvalid_0's l2: 90.562\n[32]\tvalid_0's l1: 6.75387\tvalid_0's l2: 88.3709\n[33]\tvalid_0's l1: 6.64559\tvalid_0's l2: 86.0203\n[34]\tvalid_0's l1: 6.55783\tvalid_0's l2: 84.0975\n[35]\tvalid_0's l1: 6.43662\tvalid_0's l2: 80.7871\n[36]\tvalid_0's l1: 6.33353\tvalid_0's l2: 78.4702\n[37]\tvalid_0's l1: 6.24327\tvalid_0's l2: 76.5901\n[38]\tvalid_0's l1: 6.19832\tvalid_0's l2: 75.936\n[39]\tvalid_0's l1: 6.12851\tvalid_0's l2: 74.358\n[40]\tvalid_0's l1: 6.07052\tvalid_0's l2: 73.3968\n[41]\tvalid_0's l1: 6.02283\tvalid_0's l2: 72.2205\n[42]\tvalid_0's l1: 5.98002\tvalid_0's l2: 71.2606\n[43]\tvalid_0's l1: 5.94114\tvalid_0's l2: 70.5232\n[44]\tvalid_0's l1: 5.92094\tvalid_0's l2: 69.9264\n[45]\tvalid_0's l1: 5.89351\tvalid_0's l2: 69.3464\n[46]\tvalid_0's l1: 5.86933\tvalid_0's l2: 68.8379\n[47]\tvalid_0's l1: 5.85595\tvalid_0's l2: 68.5111\n[48]\tvalid_0's l1: 5.83268\tvalid_0's l2: 67.6866\n[49]\tvalid_0's l1: 5.81212\tvalid_0's l2: 67.2557\n[50]\tvalid_0's l1: 5.78472\tvalid_0's l2: 66.6092\n[51]\tvalid_0's l1: 5.76869\tvalid_0's l2: 66.2917\n[52]\tvalid_0's l1: 5.75964\tvalid_0's l2: 66.0632\n[53]\tvalid_0's l1: 5.75158\tvalid_0's l2: 65.9446\n[54]\tvalid_0's l1: 5.74806\tvalid_0's l2: 65.7324\n[55]\tvalid_0's l1: 5.73607\tvalid_0's l2: 65.4487\n[56]\tvalid_0's l1: 5.71657\tvalid_0's l2: 64.9983\n[57]\tvalid_0's l1: 5.70637\tvalid_0's l2: 64.694\n[58]\tvalid_0's l1: 5.70891\tvalid_0's l2: 64.666\n[59]\tvalid_0's l1: 5.7079\tvalid_0's l2: 64.5446\n[60]\tvalid_0's l1: 5.70742\tvalid_0's l2: 64.4696\n[61]\tvalid_0's l1: 5.69628\tvalid_0's l2: 64.2485\n[62]\tvalid_0's l1: 5.67865\tvalid_0's l2: 63.8343\n[63]\tvalid_0's l1: 5.67474\tvalid_0's l2: 63.728\n[64]\tvalid_0's l1: 5.66935\tvalid_0's l2: 63.6112\n[65]\tvalid_0's l1: 5.66439\tvalid_0's l2: 63.5234\n[66]\tvalid_0's l1: 5.65793\tvalid_0's l2: 63.3661\n[67]\tvalid_0's l1: 5.65303\tvalid_0's l2: 63.2243\n[68]\tvalid_0's l1: 5.64045\tvalid_0's l2: 63.0016\n[69]\tvalid_0's l1: 5.63599\tvalid_0's l2: 62.9054\n[70]\tvalid_0's l1: 5.6284\tvalid_0's l2: 62.7558\n[71]\tvalid_0's l1: 5.6226\tvalid_0's l2: 62.6154\n[72]\tvalid_0's l1: 5.62541\tvalid_0's l2: 62.6167\n[73]\tvalid_0's l1: 5.62463\tvalid_0's l2: 62.505\n[74]\tvalid_0's l1: 5.62024\tvalid_0's l2: 62.3906\n[75]\tvalid_0's l1: 5.60872\tvalid_0's l2: 62.1322\n[76]\tvalid_0's l1: 5.60315\tvalid_0's l2: 62.0867\n[77]\tvalid_0's l1: 5.61015\tvalid_0's l2: 62.2304\n[78]\tvalid_0's l1: 5.61194\tvalid_0's l2: 62.2556\n[79]\tvalid_0's l1: 5.6122\tvalid_0's l2: 62.2052\n[80]\tvalid_0's l1: 5.61646\tvalid_0's l2: 62.2781\n[81]\tvalid_0's l1: 5.61069\tvalid_0's l2: 62.2276\nEarly stopping, best iteration is:\n[76]\tvalid_0's l1: 5.60315\tvalid_0's l2: 62.0867\nWall time: 47 ms\n"
     ]
    }
   ],
   "source": [
    "%%time\n",
    "gbm = lgb.LGBMRegressor(**best_params_)\n",
    "gbm.fit(X_train, y_train,\n",
    "        eval_set=[(X_test, y_test)],\n",
    "        eval_metric='l1',\n",
    "        early_stopping_rounds=5)\n",
    "\n",
    "y_pred = gbm.predict(X_test)"
   ]
  },
  {
   "source": [
    "<b>Em uma solução real esse dado ja viria do front<b>"
   ],
   "cell_type": "markdown",
   "metadata": {}
  },
  {
   "cell_type": "code",
   "execution_count": 14,
   "metadata": {},
   "outputs": [],
   "source": [
    "user_ = pd.read_csv(\"readingWithSpeed.csv\").iloc[[0]]"
   ]
  },
  {
   "source": [
    "<b>Metodo da API que retornaria a velociade de leitura<b>"
   ],
   "cell_type": "markdown",
   "metadata": {}
  },
  {
   "cell_type": "code",
   "execution_count": 11,
   "metadata": {},
   "outputs": [],
   "source": [
    "# [Get(\"/powerReader/api/ml/getReadingSpeedGivenUser\")]\n",
    "def get_reading_speed_given_user(user):\n",
    "    return gbm.predict(user)"
   ]
  }
 ]
}